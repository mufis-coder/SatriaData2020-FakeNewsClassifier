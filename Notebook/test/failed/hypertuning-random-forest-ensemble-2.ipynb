{
 "cells": [
  {
   "cell_type": "code",
   "execution_count": 2,
   "metadata": {},
   "outputs": [],
   "source": [
    "import pandas as pd\n",
    "import numpy as np\n",
    "import itertools\n",
    "from sklearn.feature_extraction.text import CountVectorizer, TfidfVectorizer, HashingVectorizer\n",
    "from sklearn import metrics\n",
    "import matplotlib.pyplot as plt"
   ]
  },
  {
   "cell_type": "code",
   "execution_count": 3,
   "metadata": {},
   "outputs": [
    {
     "data": {
      "text/html": [
       "<div>\n",
       "<style scoped>\n",
       "    .dataframe tbody tr th:only-of-type {\n",
       "        vertical-align: middle;\n",
       "    }\n",
       "\n",
       "    .dataframe tbody tr th {\n",
       "        vertical-align: top;\n",
       "    }\n",
       "\n",
       "    .dataframe thead th {\n",
       "        text-align: right;\n",
       "    }\n",
       "</style>\n",
       "<table border=\"1\" class=\"dataframe\">\n",
       "  <thead>\n",
       "    <tr style=\"text-align: right;\">\n",
       "      <th></th>\n",
       "      <th>Unnamed: 0</th>\n",
       "      <th>ID</th>\n",
       "      <th>label</th>\n",
       "      <th>judul</th>\n",
       "      <th>narasi</th>\n",
       "      <th>total</th>\n",
       "    </tr>\n",
       "  </thead>\n",
       "  <tbody>\n",
       "    <tr>\n",
       "      <th>0</th>\n",
       "      <td>0</td>\n",
       "      <td>71</td>\n",
       "      <td>1</td>\n",
       "      <td>Pemakaian Masker Menyebabkan Penyakit Legionna...</td>\n",
       "      <td>A caller to a radio talk show recently shared ...</td>\n",
       "      <td>pemakaian masker menyebabkan penyakit legionn...</td>\n",
       "    </tr>\n",
       "    <tr>\n",
       "      <th>1</th>\n",
       "      <td>1</td>\n",
       "      <td>461</td>\n",
       "      <td>1</td>\n",
       "      <td>Instruksi Gubernur Jateng tentang penilangan  ...</td>\n",
       "      <td>Yth.Seluruh Anggota Grup Sesuai Instruksi Gube...</td>\n",
       "      <td>instruksi gubernur jateng penilangan bermaske...</td>\n",
       "    </tr>\n",
       "    <tr>\n",
       "      <th>2</th>\n",
       "      <td>2</td>\n",
       "      <td>495</td>\n",
       "      <td>1</td>\n",
       "      <td>Foto Jim Rohn: Jokowi adalah presiden terbaik ...</td>\n",
       "      <td>Jokowi adalah presiden terbaik dlm sejarah ban...</td>\n",
       "      <td>foto jim jokowi presiden terbaik sejarah bang...</td>\n",
       "    </tr>\n",
       "    <tr>\n",
       "      <th>3</th>\n",
       "      <td>3</td>\n",
       "      <td>550</td>\n",
       "      <td>1</td>\n",
       "      <td>ini bukan politik, tapi kenyataan Pak Jokowi b...</td>\n",
       "      <td>Maaf Mas2 dan Mbak2, ini bukan politik, tapi k...</td>\n",
       "      <td>politik kenyataan jokowi berhasil memulangkan...</td>\n",
       "    </tr>\n",
       "    <tr>\n",
       "      <th>4</th>\n",
       "      <td>4</td>\n",
       "      <td>681</td>\n",
       "      <td>1</td>\n",
       "      <td>Foto Kadrun kalo lihat foto ini panas dingin</td>\n",
       "      <td>Kadrun kalo lihat foto ini panas dingin . .</td>\n",
       "      <td>foto lihat foto panas dingin lihat foto panas...</td>\n",
       "    </tr>\n",
       "  </tbody>\n",
       "</table>\n",
       "</div>"
      ],
      "text/plain": [
       "   Unnamed: 0   ID  label                                              judul  \\\n",
       "0           0   71      1  Pemakaian Masker Menyebabkan Penyakit Legionna...   \n",
       "1           1  461      1  Instruksi Gubernur Jateng tentang penilangan  ...   \n",
       "2           2  495      1  Foto Jim Rohn: Jokowi adalah presiden terbaik ...   \n",
       "3           3  550      1  ini bukan politik, tapi kenyataan Pak Jokowi b...   \n",
       "4           4  681      1       Foto Kadrun kalo lihat foto ini panas dingin   \n",
       "\n",
       "                                              narasi  \\\n",
       "0  A caller to a radio talk show recently shared ...   \n",
       "1  Yth.Seluruh Anggota Grup Sesuai Instruksi Gube...   \n",
       "2  Jokowi adalah presiden terbaik dlm sejarah ban...   \n",
       "3  Maaf Mas2 dan Mbak2, ini bukan politik, tapi k...   \n",
       "4        Kadrun kalo lihat foto ini panas dingin . .   \n",
       "\n",
       "                                               total  \n",
       "0   pemakaian masker menyebabkan penyakit legionn...  \n",
       "1   instruksi gubernur jateng penilangan bermaske...  \n",
       "2   foto jim jokowi presiden terbaik sejarah bang...  \n",
       "3   politik kenyataan jokowi berhasil memulangkan...  \n",
       "4   foto lihat foto panas dingin lihat foto panas...  "
      ]
     },
     "execution_count": 3,
     "metadata": {},
     "output_type": "execute_result"
    }
   ],
   "source": [
    "df = pd.read_excel('D:\\zzKoding\\Data Sains - Machine Learning - AI\\Lomba\\Satria Data 2020\\Data enLer\\datatrainbr.xlsx')\n",
    "df.head()"
   ]
  },
  {
   "cell_type": "code",
   "execution_count": 4,
   "metadata": {},
   "outputs": [
    {
     "name": "stdout",
     "output_type": "stream",
     "text": [
      "(4231, 6)\n"
     ]
    },
    {
     "data": {
      "text/html": [
       "<div>\n",
       "<style scoped>\n",
       "    .dataframe tbody tr th:only-of-type {\n",
       "        vertical-align: middle;\n",
       "    }\n",
       "\n",
       "    .dataframe tbody tr th {\n",
       "        vertical-align: top;\n",
       "    }\n",
       "\n",
       "    .dataframe thead th {\n",
       "        text-align: right;\n",
       "    }\n",
       "</style>\n",
       "<table border=\"1\" class=\"dataframe\">\n",
       "  <thead>\n",
       "    <tr style=\"text-align: right;\">\n",
       "      <th></th>\n",
       "      <th>ID</th>\n",
       "      <th>label</th>\n",
       "      <th>judul</th>\n",
       "      <th>narasi</th>\n",
       "      <th>total</th>\n",
       "    </tr>\n",
       "  </thead>\n",
       "  <tbody>\n",
       "    <tr>\n",
       "      <th>0</th>\n",
       "      <td>71</td>\n",
       "      <td>1</td>\n",
       "      <td>Pemakaian Masker Menyebabkan Penyakit Legionna...</td>\n",
       "      <td>A caller to a radio talk show recently shared ...</td>\n",
       "      <td>pemakaian masker menyebabkan penyakit legionn...</td>\n",
       "    </tr>\n",
       "    <tr>\n",
       "      <th>1</th>\n",
       "      <td>461</td>\n",
       "      <td>1</td>\n",
       "      <td>Instruksi Gubernur Jateng tentang penilangan  ...</td>\n",
       "      <td>Yth.Seluruh Anggota Grup Sesuai Instruksi Gube...</td>\n",
       "      <td>instruksi gubernur jateng penilangan bermaske...</td>\n",
       "    </tr>\n",
       "    <tr>\n",
       "      <th>2</th>\n",
       "      <td>495</td>\n",
       "      <td>1</td>\n",
       "      <td>Foto Jim Rohn: Jokowi adalah presiden terbaik ...</td>\n",
       "      <td>Jokowi adalah presiden terbaik dlm sejarah ban...</td>\n",
       "      <td>foto jim jokowi presiden terbaik sejarah bang...</td>\n",
       "    </tr>\n",
       "    <tr>\n",
       "      <th>3</th>\n",
       "      <td>550</td>\n",
       "      <td>1</td>\n",
       "      <td>ini bukan politik, tapi kenyataan Pak Jokowi b...</td>\n",
       "      <td>Maaf Mas2 dan Mbak2, ini bukan politik, tapi k...</td>\n",
       "      <td>politik kenyataan jokowi berhasil memulangkan...</td>\n",
       "    </tr>\n",
       "    <tr>\n",
       "      <th>4</th>\n",
       "      <td>681</td>\n",
       "      <td>1</td>\n",
       "      <td>Foto Kadrun kalo lihat foto ini panas dingin</td>\n",
       "      <td>Kadrun kalo lihat foto ini panas dingin . .</td>\n",
       "      <td>foto lihat foto panas dingin lihat foto panas...</td>\n",
       "    </tr>\n",
       "  </tbody>\n",
       "</table>\n",
       "</div>"
      ],
      "text/plain": [
       "    ID  label                                              judul  \\\n",
       "0   71      1  Pemakaian Masker Menyebabkan Penyakit Legionna...   \n",
       "1  461      1  Instruksi Gubernur Jateng tentang penilangan  ...   \n",
       "2  495      1  Foto Jim Rohn: Jokowi adalah presiden terbaik ...   \n",
       "3  550      1  ini bukan politik, tapi kenyataan Pak Jokowi b...   \n",
       "4  681      1       Foto Kadrun kalo lihat foto ini panas dingin   \n",
       "\n",
       "                                              narasi  \\\n",
       "0  A caller to a radio talk show recently shared ...   \n",
       "1  Yth.Seluruh Anggota Grup Sesuai Instruksi Gube...   \n",
       "2  Jokowi adalah presiden terbaik dlm sejarah ban...   \n",
       "3  Maaf Mas2 dan Mbak2, ini bukan politik, tapi k...   \n",
       "4        Kadrun kalo lihat foto ini panas dingin . .   \n",
       "\n",
       "                                               total  \n",
       "0   pemakaian masker menyebabkan penyakit legionn...  \n",
       "1   instruksi gubernur jateng penilangan bermaske...  \n",
       "2   foto jim jokowi presiden terbaik sejarah bang...  \n",
       "3   politik kenyataan jokowi berhasil memulangkan...  \n",
       "4   foto lihat foto panas dingin lihat foto panas...  "
      ]
     },
     "execution_count": 4,
     "metadata": {},
     "output_type": "execute_result"
    }
   ],
   "source": [
    "print(df.shape)\n",
    "df = df.drop(['Unnamed: 0'], axis=1)\n",
    "df.head()"
   ]
  },
  {
   "cell_type": "code",
   "execution_count": 5,
   "metadata": {},
   "outputs": [
    {
     "name": "stdout",
     "output_type": "stream",
     "text": [
      "<class 'pandas.core.frame.DataFrame'>\n",
      "RangeIndex: 4231 entries, 0 to 4230\n",
      "Data columns (total 5 columns):\n",
      " #   Column  Non-Null Count  Dtype \n",
      "---  ------  --------------  ----- \n",
      " 0   ID      4231 non-null   int64 \n",
      " 1   label   4231 non-null   int64 \n",
      " 2   judul   4231 non-null   object\n",
      " 3   narasi  4231 non-null   object\n",
      " 4   total   4231 non-null   object\n",
      "dtypes: int64(2), object(3)\n",
      "memory usage: 165.4+ KB\n"
     ]
    }
   ],
   "source": [
    "df.info()"
   ]
  },
  {
   "cell_type": "code",
   "execution_count": 6,
   "metadata": {},
   "outputs": [
    {
     "data": {
      "text/plain": [
       "1    3465\n",
       "0     766\n",
       "Name: label, dtype: int64"
      ]
     },
     "execution_count": 6,
     "metadata": {},
     "output_type": "execute_result"
    }
   ],
   "source": [
    "df['label'].value_counts()"
   ]
  },
  {
   "cell_type": "code",
   "execution_count": 7,
   "metadata": {},
   "outputs": [
    {
     "data": {
      "text/html": [
       "<div>\n",
       "<style scoped>\n",
       "    .dataframe tbody tr th:only-of-type {\n",
       "        vertical-align: middle;\n",
       "    }\n",
       "\n",
       "    .dataframe tbody tr th {\n",
       "        vertical-align: top;\n",
       "    }\n",
       "\n",
       "    .dataframe thead th {\n",
       "        text-align: right;\n",
       "    }\n",
       "</style>\n",
       "<table border=\"1\" class=\"dataframe\">\n",
       "  <thead>\n",
       "    <tr style=\"text-align: right;\">\n",
       "      <th></th>\n",
       "      <th>Unnamed: 0</th>\n",
       "      <th>ID</th>\n",
       "      <th>judul</th>\n",
       "      <th>narasi</th>\n",
       "      <th>label</th>\n",
       "      <th>total</th>\n",
       "    </tr>\n",
       "  </thead>\n",
       "  <tbody>\n",
       "    <tr>\n",
       "      <th>0</th>\n",
       "      <td>0</td>\n",
       "      <td>238057</td>\n",
       "      <td>Narasi Tito Karnavian Berideologi Komunis Kare...</td>\n",
       "      <td>TITO KARNIVAN ITU BERIDIOLOGI KOMUNIS DIA BISA...</td>\n",
       "      <td>1</td>\n",
       "      <td>narasi tito berideologi komunis disekolahkan ...</td>\n",
       "    </tr>\n",
       "    <tr>\n",
       "      <th>1</th>\n",
       "      <td>1</td>\n",
       "      <td>238158</td>\n",
       "      <td>Anies: Seberat beratnya Pekerjaan Akan terasa ...</td>\n",
       "      <td>Seberat beratnya Pekerjaan Akan terasa ringan ...</td>\n",
       "      <td>1</td>\n",
       "      <td>anies seberat beratnya pekerjaan ringan kerja...</td>\n",
       "    </tr>\n",
       "    <tr>\n",
       "      <th>2</th>\n",
       "      <td>2</td>\n",
       "      <td>238865</td>\n",
       "      <td>Hindu di india Melemparkan Patung Buatan Merek...</td>\n",
       "      <td>Hindu di india melemparkan patung buatan merek...</td>\n",
       "      <td>1</td>\n",
       "      <td>hindu india melemparkan patung buatan laut me...</td>\n",
       "    </tr>\n",
       "    <tr>\n",
       "      <th>3</th>\n",
       "      <td>3</td>\n",
       "      <td>248298</td>\n",
       "      <td>RSCM Praktekkan Penyedotan Plug  Vena/Saluran ...</td>\n",
       "      <td>Mulai Hari ini di RSCM mulai diPraktekkan Peny...</td>\n",
       "      <td>1</td>\n",
       "      <td>rscm praktekkan penyedotan plug darah rscm di...</td>\n",
       "    </tr>\n",
       "    <tr>\n",
       "      <th>4</th>\n",
       "      <td>4</td>\n",
       "      <td>255176</td>\n",
       "      <td>Permohonan Kelonggaran Angsuran ke OJK</td>\n",
       "      <td>Untuk sekedar info, Bagi anda yg punya ansuran...</td>\n",
       "      <td>1</td>\n",
       "      <td>permohonan kelonggaran angsuran ojk info kelo...</td>\n",
       "    </tr>\n",
       "  </tbody>\n",
       "</table>\n",
       "</div>"
      ],
      "text/plain": [
       "   Unnamed: 0      ID                                              judul  \\\n",
       "0           0  238057  Narasi Tito Karnavian Berideologi Komunis Kare...   \n",
       "1           1  238158  Anies: Seberat beratnya Pekerjaan Akan terasa ...   \n",
       "2           2  238865  Hindu di india Melemparkan Patung Buatan Merek...   \n",
       "3           3  248298  RSCM Praktekkan Penyedotan Plug  Vena/Saluran ...   \n",
       "4           4  255176             Permohonan Kelonggaran Angsuran ke OJK   \n",
       "\n",
       "                                              narasi  label  \\\n",
       "0  TITO KARNIVAN ITU BERIDIOLOGI KOMUNIS DIA BISA...      1   \n",
       "1  Seberat beratnya Pekerjaan Akan terasa ringan ...      1   \n",
       "2  Hindu di india melemparkan patung buatan merek...      1   \n",
       "3  Mulai Hari ini di RSCM mulai diPraktekkan Peny...      1   \n",
       "4  Untuk sekedar info, Bagi anda yg punya ansuran...      1   \n",
       "\n",
       "                                               total  \n",
       "0   narasi tito berideologi komunis disekolahkan ...  \n",
       "1   anies seberat beratnya pekerjaan ringan kerja...  \n",
       "2   hindu india melemparkan patung buatan laut me...  \n",
       "3   rscm praktekkan penyedotan plug darah rscm di...  \n",
       "4   permohonan kelonggaran angsuran ojk info kelo...  "
      ]
     },
     "execution_count": 7,
     "metadata": {},
     "output_type": "execute_result"
    }
   ],
   "source": [
    "df_t = pd.read_excel('D:\\zzKoding\\Data Sains - Machine Learning - AI\\Lomba\\Satria Data 2020\\Data enLer\\datatestbr - Copy.xlsx')\n",
    "df_t_id = df_t['ID']\n",
    "df_t.head()"
   ]
  },
  {
   "cell_type": "code",
   "execution_count": 8,
   "metadata": {},
   "outputs": [
    {
     "data": {
      "text/html": [
       "<div>\n",
       "<style scoped>\n",
       "    .dataframe tbody tr th:only-of-type {\n",
       "        vertical-align: middle;\n",
       "    }\n",
       "\n",
       "    .dataframe tbody tr th {\n",
       "        vertical-align: top;\n",
       "    }\n",
       "\n",
       "    .dataframe thead th {\n",
       "        text-align: right;\n",
       "    }\n",
       "</style>\n",
       "<table border=\"1\" class=\"dataframe\">\n",
       "  <thead>\n",
       "    <tr style=\"text-align: right;\">\n",
       "      <th></th>\n",
       "      <th>ID</th>\n",
       "      <th>judul</th>\n",
       "      <th>narasi</th>\n",
       "      <th>label</th>\n",
       "      <th>total</th>\n",
       "    </tr>\n",
       "  </thead>\n",
       "  <tbody>\n",
       "    <tr>\n",
       "      <th>0</th>\n",
       "      <td>238057</td>\n",
       "      <td>Narasi Tito Karnavian Berideologi Komunis Kare...</td>\n",
       "      <td>TITO KARNIVAN ITU BERIDIOLOGI KOMUNIS DIA BISA...</td>\n",
       "      <td>1</td>\n",
       "      <td>narasi tito berideologi komunis disekolahkan ...</td>\n",
       "    </tr>\n",
       "    <tr>\n",
       "      <th>1</th>\n",
       "      <td>238158</td>\n",
       "      <td>Anies: Seberat beratnya Pekerjaan Akan terasa ...</td>\n",
       "      <td>Seberat beratnya Pekerjaan Akan terasa ringan ...</td>\n",
       "      <td>1</td>\n",
       "      <td>anies seberat beratnya pekerjaan ringan kerja...</td>\n",
       "    </tr>\n",
       "    <tr>\n",
       "      <th>2</th>\n",
       "      <td>238865</td>\n",
       "      <td>Hindu di india Melemparkan Patung Buatan Merek...</td>\n",
       "      <td>Hindu di india melemparkan patung buatan merek...</td>\n",
       "      <td>1</td>\n",
       "      <td>hindu india melemparkan patung buatan laut me...</td>\n",
       "    </tr>\n",
       "    <tr>\n",
       "      <th>3</th>\n",
       "      <td>248298</td>\n",
       "      <td>RSCM Praktekkan Penyedotan Plug  Vena/Saluran ...</td>\n",
       "      <td>Mulai Hari ini di RSCM mulai diPraktekkan Peny...</td>\n",
       "      <td>1</td>\n",
       "      <td>rscm praktekkan penyedotan plug darah rscm di...</td>\n",
       "    </tr>\n",
       "    <tr>\n",
       "      <th>4</th>\n",
       "      <td>255176</td>\n",
       "      <td>Permohonan Kelonggaran Angsuran ke OJK</td>\n",
       "      <td>Untuk sekedar info, Bagi anda yg punya ansuran...</td>\n",
       "      <td>1</td>\n",
       "      <td>permohonan kelonggaran angsuran ojk info kelo...</td>\n",
       "    </tr>\n",
       "  </tbody>\n",
       "</table>\n",
       "</div>"
      ],
      "text/plain": [
       "       ID                                              judul  \\\n",
       "0  238057  Narasi Tito Karnavian Berideologi Komunis Kare...   \n",
       "1  238158  Anies: Seberat beratnya Pekerjaan Akan terasa ...   \n",
       "2  238865  Hindu di india Melemparkan Patung Buatan Merek...   \n",
       "3  248298  RSCM Praktekkan Penyedotan Plug  Vena/Saluran ...   \n",
       "4  255176             Permohonan Kelonggaran Angsuran ke OJK   \n",
       "\n",
       "                                              narasi  label  \\\n",
       "0  TITO KARNIVAN ITU BERIDIOLOGI KOMUNIS DIA BISA...      1   \n",
       "1  Seberat beratnya Pekerjaan Akan terasa ringan ...      1   \n",
       "2  Hindu di india melemparkan patung buatan merek...      1   \n",
       "3  Mulai Hari ini di RSCM mulai diPraktekkan Peny...      1   \n",
       "4  Untuk sekedar info, Bagi anda yg punya ansuran...      1   \n",
       "\n",
       "                                               total  \n",
       "0   narasi tito berideologi komunis disekolahkan ...  \n",
       "1   anies seberat beratnya pekerjaan ringan kerja...  \n",
       "2   hindu india melemparkan patung buatan laut me...  \n",
       "3   rscm praktekkan penyedotan plug darah rscm di...  \n",
       "4   permohonan kelonggaran angsuran ojk info kelo...  "
      ]
     },
     "execution_count": 8,
     "metadata": {},
     "output_type": "execute_result"
    }
   ],
   "source": [
    "df_t = df_t.drop(['Unnamed: 0'], axis=1)\n",
    "df_t.head()"
   ]
  },
  {
   "cell_type": "code",
   "execution_count": 9,
   "metadata": {},
   "outputs": [
    {
     "name": "stdout",
     "output_type": "stream",
     "text": [
      "<class 'pandas.core.frame.DataFrame'>\n",
      "RangeIndex: 470 entries, 0 to 469\n",
      "Data columns (total 5 columns):\n",
      " #   Column  Non-Null Count  Dtype \n",
      "---  ------  --------------  ----- \n",
      " 0   ID      470 non-null    int64 \n",
      " 1   judul   470 non-null    object\n",
      " 2   narasi  470 non-null    object\n",
      " 3   label   470 non-null    int64 \n",
      " 4   total   470 non-null    object\n",
      "dtypes: int64(2), object(3)\n",
      "memory usage: 18.5+ KB\n",
      "None\n"
     ]
    }
   ],
   "source": [
    "print(df_t.info())"
   ]
  },
  {
   "cell_type": "code",
   "execution_count": 10,
   "metadata": {},
   "outputs": [],
   "source": [
    "#inisiasi x dan y\n",
    "x_train = df['total']\n",
    "y_train = df['label']"
   ]
  },
  {
   "cell_type": "code",
   "execution_count": 11,
   "metadata": {},
   "outputs": [],
   "source": [
    "x_test = df_t['total']\n",
    "y_test = df_t['label']"
   ]
  },
  {
   "cell_type": "code",
   "execution_count": 12,
   "metadata": {},
   "outputs": [],
   "source": [
    "# Initialize a TfidfVectorizer\n",
    "tfidf_vectorizer=TfidfVectorizer(max_df=1.0)\n",
    "\n",
    "#Fit and transform train set, transform test set\n",
    "tfidf_train=tfidf_vectorizer.fit_transform(x_train)\n",
    "tfidf_test=tfidf_vectorizer.transform(x_test)"
   ]
  },
  {
   "cell_type": "code",
   "execution_count": 14,
   "metadata": {},
   "outputs": [
    {
     "ename": "MemoryError",
     "evalue": "Unable to allocate 542. MiB for an array with shape (4231, 16779) and data type float64",
     "output_type": "error",
     "traceback": [
      "\u001b[1;31m---------------------------------------------------------------------------\u001b[0m",
      "\u001b[1;31mMemoryError\u001b[0m                               Traceback (most recent call last)",
      "\u001b[1;32m<ipython-input-14-854a76427851>\u001b[0m in \u001b[0;36m<module>\u001b[1;34m\u001b[0m\n\u001b[1;32m----> 1\u001b[1;33m \u001b[0mtfidf_train_array\u001b[0m \u001b[1;33m=\u001b[0m \u001b[0mtfidf_train\u001b[0m\u001b[1;33m.\u001b[0m\u001b[0mtoarray\u001b[0m\u001b[1;33m(\u001b[0m\u001b[1;33m)\u001b[0m\u001b[1;33m\u001b[0m\u001b[1;33m\u001b[0m\u001b[0m\n\u001b[0m\u001b[0;32m      2\u001b[0m \u001b[0mtfidf_test_array\u001b[0m \u001b[1;33m=\u001b[0m \u001b[0mtfidf_test\u001b[0m\u001b[1;33m.\u001b[0m\u001b[0mtoarray\u001b[0m\u001b[1;33m(\u001b[0m\u001b[1;33m)\u001b[0m\u001b[1;33m\u001b[0m\u001b[1;33m\u001b[0m\u001b[0m\n\u001b[0;32m      3\u001b[0m \u001b[0mtfidf_train_df\u001b[0m \u001b[1;33m=\u001b[0m \u001b[0mpd\u001b[0m\u001b[1;33m.\u001b[0m\u001b[0mDataFrame\u001b[0m\u001b[1;33m(\u001b[0m\u001b[0mtfidf_train_array\u001b[0m\u001b[1;33m)\u001b[0m\u001b[1;33m\u001b[0m\u001b[1;33m\u001b[0m\u001b[0m\n\u001b[0;32m      4\u001b[0m \u001b[0mtfidf_test_df\u001b[0m \u001b[1;33m=\u001b[0m \u001b[0mpd\u001b[0m\u001b[1;33m.\u001b[0m\u001b[0mDataFrame\u001b[0m\u001b[1;33m(\u001b[0m\u001b[0mtfidf_test_array\u001b[0m\u001b[1;33m)\u001b[0m\u001b[1;33m\u001b[0m\u001b[1;33m\u001b[0m\u001b[0m\n\u001b[0;32m      5\u001b[0m \u001b[0mdisplay\u001b[0m\u001b[1;33m(\u001b[0m\u001b[0mtfidf_train_df\u001b[0m\u001b[1;33m.\u001b[0m\u001b[0mhead\u001b[0m\u001b[1;33m(\u001b[0m\u001b[1;33m)\u001b[0m\u001b[1;33m)\u001b[0m\u001b[1;33m\u001b[0m\u001b[1;33m\u001b[0m\u001b[0m\n",
      "\u001b[1;32m~\\anaconda3\\lib\\site-packages\\scipy\\sparse\\compressed.py\u001b[0m in \u001b[0;36mtoarray\u001b[1;34m(self, order, out)\u001b[0m\n\u001b[0;32m   1023\u001b[0m         \u001b[1;32mif\u001b[0m \u001b[0mout\u001b[0m \u001b[1;32mis\u001b[0m \u001b[1;32mNone\u001b[0m \u001b[1;32mand\u001b[0m \u001b[0morder\u001b[0m \u001b[1;32mis\u001b[0m \u001b[1;32mNone\u001b[0m\u001b[1;33m:\u001b[0m\u001b[1;33m\u001b[0m\u001b[1;33m\u001b[0m\u001b[0m\n\u001b[0;32m   1024\u001b[0m             \u001b[0morder\u001b[0m \u001b[1;33m=\u001b[0m \u001b[0mself\u001b[0m\u001b[1;33m.\u001b[0m\u001b[0m_swap\u001b[0m\u001b[1;33m(\u001b[0m\u001b[1;34m'cf'\u001b[0m\u001b[1;33m)\u001b[0m\u001b[1;33m[\u001b[0m\u001b[1;36m0\u001b[0m\u001b[1;33m]\u001b[0m\u001b[1;33m\u001b[0m\u001b[1;33m\u001b[0m\u001b[0m\n\u001b[1;32m-> 1025\u001b[1;33m         \u001b[0mout\u001b[0m \u001b[1;33m=\u001b[0m \u001b[0mself\u001b[0m\u001b[1;33m.\u001b[0m\u001b[0m_process_toarray_args\u001b[0m\u001b[1;33m(\u001b[0m\u001b[0morder\u001b[0m\u001b[1;33m,\u001b[0m \u001b[0mout\u001b[0m\u001b[1;33m)\u001b[0m\u001b[1;33m\u001b[0m\u001b[1;33m\u001b[0m\u001b[0m\n\u001b[0m\u001b[0;32m   1026\u001b[0m         \u001b[1;32mif\u001b[0m \u001b[1;32mnot\u001b[0m \u001b[1;33m(\u001b[0m\u001b[0mout\u001b[0m\u001b[1;33m.\u001b[0m\u001b[0mflags\u001b[0m\u001b[1;33m.\u001b[0m\u001b[0mc_contiguous\u001b[0m \u001b[1;32mor\u001b[0m \u001b[0mout\u001b[0m\u001b[1;33m.\u001b[0m\u001b[0mflags\u001b[0m\u001b[1;33m.\u001b[0m\u001b[0mf_contiguous\u001b[0m\u001b[1;33m)\u001b[0m\u001b[1;33m:\u001b[0m\u001b[1;33m\u001b[0m\u001b[1;33m\u001b[0m\u001b[0m\n\u001b[0;32m   1027\u001b[0m             \u001b[1;32mraise\u001b[0m \u001b[0mValueError\u001b[0m\u001b[1;33m(\u001b[0m\u001b[1;34m'Output array must be C or F contiguous'\u001b[0m\u001b[1;33m)\u001b[0m\u001b[1;33m\u001b[0m\u001b[1;33m\u001b[0m\u001b[0m\n",
      "\u001b[1;32m~\\anaconda3\\lib\\site-packages\\scipy\\sparse\\base.py\u001b[0m in \u001b[0;36m_process_toarray_args\u001b[1;34m(self, order, out)\u001b[0m\n\u001b[0;32m   1187\u001b[0m             \u001b[1;32mreturn\u001b[0m \u001b[0mout\u001b[0m\u001b[1;33m\u001b[0m\u001b[1;33m\u001b[0m\u001b[0m\n\u001b[0;32m   1188\u001b[0m         \u001b[1;32melse\u001b[0m\u001b[1;33m:\u001b[0m\u001b[1;33m\u001b[0m\u001b[1;33m\u001b[0m\u001b[0m\n\u001b[1;32m-> 1189\u001b[1;33m             \u001b[1;32mreturn\u001b[0m \u001b[0mnp\u001b[0m\u001b[1;33m.\u001b[0m\u001b[0mzeros\u001b[0m\u001b[1;33m(\u001b[0m\u001b[0mself\u001b[0m\u001b[1;33m.\u001b[0m\u001b[0mshape\u001b[0m\u001b[1;33m,\u001b[0m \u001b[0mdtype\u001b[0m\u001b[1;33m=\u001b[0m\u001b[0mself\u001b[0m\u001b[1;33m.\u001b[0m\u001b[0mdtype\u001b[0m\u001b[1;33m,\u001b[0m \u001b[0morder\u001b[0m\u001b[1;33m=\u001b[0m\u001b[0morder\u001b[0m\u001b[1;33m)\u001b[0m\u001b[1;33m\u001b[0m\u001b[1;33m\u001b[0m\u001b[0m\n\u001b[0m\u001b[0;32m   1190\u001b[0m \u001b[1;33m\u001b[0m\u001b[0m\n\u001b[0;32m   1191\u001b[0m \u001b[1;33m\u001b[0m\u001b[0m\n",
      "\u001b[1;31mMemoryError\u001b[0m: Unable to allocate 542. MiB for an array with shape (4231, 16779) and data type float64"
     ]
    }
   ],
   "source": [
    "tfidf_train_array = tfidf_train.toarray()\n",
    "tfidf_test_array = tfidf_test.toarray()\n",
    "tfidf_train_df = pd.DataFrame(tfidf_train_array)\n",
    "tfidf_test_df = pd.DataFrame(tfidf_test_array)\n",
    "display(tfidf_train_df.head())\n",
    "display(tfidf_test_df.head())"
   ]
  },
  {
   "cell_type": "code",
   "execution_count": null,
   "metadata": {},
   "outputs": [],
   "source": []
  }
 ],
 "metadata": {
  "kernelspec": {
   "display_name": "Python 3",
   "language": "python",
   "name": "python3"
  },
  "language_info": {
   "codemirror_mode": {
    "name": "ipython",
    "version": 3
   },
   "file_extension": ".py",
   "mimetype": "text/x-python",
   "name": "python",
   "nbconvert_exporter": "python",
   "pygments_lexer": "ipython3",
   "version": "3.7.6"
  }
 },
 "nbformat": 4,
 "nbformat_minor": 4
}
